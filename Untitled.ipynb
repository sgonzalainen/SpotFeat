{
 "cells": [
  {
   "cell_type": "code",
   "execution_count": 1,
   "metadata": {},
   "outputs": [],
   "source": [
    "import sys\n",
    "sys.path.append(\"../\")"
   ]
  },
  {
   "cell_type": "code",
   "execution_count": 6,
   "metadata": {},
   "outputs": [],
   "source": [
    "import pandas as pd"
   ]
  },
  {
   "cell_type": "code",
   "execution_count": 16,
   "metadata": {
    "scrolled": true
   },
   "outputs": [
    {
     "name": "stdout",
     "output_type": "stream",
     "text": [
      "The autoreload extension is already loaded. To reload it, use:\n",
      "  %reload_ext autoreload\n"
     ]
    }
   ],
   "source": [
    "\n",
    "import src.dataset_functions as dataset\n",
    "\n",
    "import numpy as np\n",
    "%load_ext autoreload\n",
    "%autoreload 2"
   ]
  },
  {
   "cell_type": "code",
   "execution_count": 3,
   "metadata": {},
   "outputs": [],
   "source": [
    "from src.mysql import mysql as mysql"
   ]
  },
  {
   "cell_type": "code",
   "execution_count": 10,
   "metadata": {
    "scrolled": true
   },
   "outputs": [
    {
     "data": {
      "text/plain": [
       "[('5UqCQaDshqbIk3pkhy4Pjg',),\n",
       " ('0ct6r3EGTcMLPtrXHDvVjc',),\n",
       " ('46lFttIf5hnUZMGvjK0Wxo',),\n",
       " ('4J7CKHCF3mdL4diUsmW8lq',),\n",
       " ('7gUg4GdOA6Y6yRDe36GIjK',),\n",
       " ('0TDLuuLlV54CkRRUOahJb4',),\n",
       " ('61ZM92T2zaXIVsqncThQzC',),\n",
       " ('5bnMKUXkMfYVXW8FjvFTuV',),\n",
       " ('1trC8L8YpawkU553ymy2zC',),\n",
       " ('2hjQWuAy9fsSykGerWU8Wi',),\n",
       " ('2x0RZdkZcD8QRI53XT4GI5',),\n",
       " ('23L5CiUhw2jV1OIMwthR3S',),\n",
       " ('4qHdhSUkmDh6r7Ea4NzAvM',),\n",
       " ('5jyUBKpmaH670zrXrE0wmO',),\n",
       " ('0nrRP2bk19rLc0orkWPQk2',),\n",
       " ('2P4OICZRVAQcYAV2JReRfj',),\n",
       " ('2rXJfBY9e14Bw2Nb9qijbE',),\n",
       " ('2aibwv5hGXSgw7Yru8IYTO',),\n",
       " ('78qd8dvwea0Gosb6Fe6j3k',),\n",
       " ('6YUTL4dYpB9xZO5qExPf05',),\n",
       " ('7mitXLIMCflkhZiD34uEQI',),\n",
       " ('4h8VwCb1MTGoLKueQ1WgbD',),\n",
       " ('5yDL13y5giogKs2fSNf7sj',),\n",
       " ('1LkoYGxmYpO6QSEvY5C0Zl',),\n",
       " ('01km0N5v4vhwqFyW4H1X0n',),\n",
       " ('14BH4qO7pgCmIe6mgLKOK3',),\n",
       " ('6Pgkp4qUoTmJIPn7ReaGxL',),\n",
       " ('4kbYevkszYmMhoQcwnR7cZ',),\n",
       " ('5pmL3RzOy3IvGFaSDi4hZL',),\n",
       " ('0WQf8kcrI1yb6l2vpKjsOI',),\n",
       " ('2KrN3MCNztKcSleZgHEj83',),\n",
       " ('72SpPFrMYCXLB3Fbw9tEgf',),\n",
       " ('2V65y3PX4DkRhy1djlxd9p',),\n",
       " ('5Xx95GLKXZmXMHpLT2ES76',),\n",
       " ('3GTXok0dIm0mMqBiVklBYS',),\n",
       " ('0kGEwM9SuACvojllsFMpAR',),\n",
       " ('60a0Rd6pjrkxjPbaKzXjfq',),\n",
       " ('7lQWRAjyhTpCWFC0jmclT4',),\n",
       " ('09TcIuH1ZO7i4vicWKoaN2',),\n",
       " ('2AackF0QRSQeRovrkWSsOo',),\n",
       " ('3Uyt0WO3wOopnUBCe9BaXl',),\n",
       " ('2wlptOJ1g5fvLdu6ruKCKU',),\n",
       " ('4Yf5bqU3NK4kNOypcrLYwU',),\n",
       " ('6Z8R6UsFuGXGtiIxiD8ISb',),\n",
       " ('08E0TIudwefGjA27W4zrnf',),\n",
       " ('0JhKJg5ejeQ8jq89UQtnw8',),\n",
       " ('0vrmHPfoBadXVr2n0m1aqZ',),\n",
       " ('25ZEYUgCJyf3gRxkqYbkIc',),\n",
       " ('003vvx7Niy0yvhvHt4a68B',),\n",
       " ('503OTo2dSqe7qk76rgsbep',),\n",
       " ('1usr8G645qLjRvwZGappbL',),\n",
       " ('7zrpoAJte9o12TzawqgdD0',),\n",
       " ('3cwDSDzTiWr5H5xMQhQ6Mx',),\n",
       " ('29f9l4ImBUkA33j8kQBy65',),\n",
       " ('3Xan7x0swSa4C7MdfR0iub',),\n",
       " ('3aQz0z86zrKjd1mcZlonxE',),\n",
       " ('0jqK7sGTLsHPkQrrcrGuKD',),\n",
       " ('2GgxS8bUT5G25QJTsfSv0R',),\n",
       " ('0Jrfdet0gqKk1SZ0SLMR2L',),\n",
       " ('21Ay8mJRYQuOMZp7qyQXl6',),\n",
       " ('7w9bgPAmPTtrkt2v16QWvQ',),\n",
       " ('43dijXylJjKuis4lVZGZea',),\n",
       " ('3QRM0qZB7oMYavveH0iEqx',),\n",
       " ('7F9JEUSWBBzrByXA3FszFX',),\n",
       " ('3d9DChrdc6BOeFsbrZ3Is0',),\n",
       " ('5PX4uS1LqlWEPL69phPVQQ',),\n",
       " ('1B75hgRqe7A4fwee3g3Wmu',),\n",
       " ('2wJxsOw3EYkEYtlQ0IDwOE',),\n",
       " ('3s03nrUInN3NAVjQtmnS0O',),\n",
       " ('0BuV9tHB6tm3Ron8xt1hPD',),\n",
       " ('7N1XjfWPlOG0gviJB7AMX1',),\n",
       " ('6h5PAsRni4IRlxWr6uDPTP',),\n",
       " ('546QTayX6j4GcZsfTRrVnL',),\n",
       " ('1brwdYwjltrJo7WHpIvbYt',),\n",
       " ('1Vej0qeQ3ioKwpI6FUbRv1',),\n",
       " ('5aEqcblO0Z6JloFJXtxyhe',),\n",
       " ('6VRhkROS2SZHGlp0pxndbJ',),\n",
       " ('1I8tHoNBFTuoJAlh4hfVVE',),\n",
       " ('3B7udSGy2PfgoCniMSb523',),\n",
       " ('5kQre7o8ky5DXeEPcyaCR1',),\n",
       " ('41JrRedwrJxbBPwI8Qku04',),\n",
       " ('3E7ZwUMJFqpsDOJzEkBrQ7',),\n",
       " ('4aWmUDTfIPGksMNLV2rQP2',),\n",
       " ('24LS4lQShWyixJ0ZrJXfJ5',),\n",
       " ('4CVOUJki8YUWol3jhLphgs',),\n",
       " ('54ZPmGE1uOG9IYoUBSRSp7',),\n",
       " ('65hRZOQkVjmBdusz1N7aOv',),\n",
       " ('1Eu8TaJ8xyP63VtsBOYdi1',),\n",
       " ('4JjUwfp8GQ3PxWg2QPKnpn',),\n",
       " ('6kV8r0Qgaxc1MHvkD1jaai',),\n",
       " ('5e45GhSF18JYoLpaq2F48h',),\n",
       " ('1gihuPhrLraKYrJMAEONyc',),\n",
       " ('46NBoIAHrmR7qcUGCIFEjR',),\n",
       " ('4vvnuJlgBeNVwq3TNmLMNX',),\n",
       " ('5sNESr6pQfIhL3krM8CtZn',),\n",
       " ('05SBRd4fXgn8FX7bf8BCAE',),\n",
       " ('3gNGi2iUGHXGpBQHce6Nua',),\n",
       " ('2A17TySL9lcoRTA28w9yfB',),\n",
       " ('0u2P5u6lvoDfwTYjAADbn4',),\n",
       " ('4T33JYubGGldKpWcP8qcuQ',),\n",
       " ('3n3Ppam7vgaVa1iaRUc9Lp',),\n",
       " ('1TWfkGrhF7ob0nwB2M6knb',),\n",
       " ('4lhqb6JvbHId48OUJGwymk',),\n",
       " ('2Foc5Q5nqNiosCNqttzHof',),\n",
       " ('6yr8GiTHWvFfi4o6Q5ebdT',),\n",
       " ('6JEYsNn5jriv0uasBYFH17',),\n",
       " ('7gHs73wELdeycvS48JfIos',),\n",
       " ('7KIQ01yGfd4t2tfR6esbuv',),\n",
       " ('7N1abdI3wIAFxGZ9637MFq',),\n",
       " ('53N4dEwHT1D6xwebFQ8OtQ',),\n",
       " ('3nMEC3nwNEWnN1bBMbC7Sd',),\n",
       " ('0DxN6Ywom8nnndyQXdSBPy',)]"
      ]
     },
     "execution_count": 10,
     "metadata": {},
     "output_type": "execute_result"
    }
   ],
   "source": [
    "list(mysql.fetch_column_table_where('user_song','song_id','user_id','kekio89'))"
   ]
  },
  {
   "cell_type": "code",
   "execution_count": 70,
   "metadata": {},
   "outputs": [],
   "source": [
    "from src.admin import Admin"
   ]
  },
  {
   "cell_type": "code",
   "execution_count": 82,
   "metadata": {},
   "outputs": [
    {
     "name": "stdout",
     "output_type": "stream",
     "text": [
      "Identification is required. Please click on link below.\n",
      "Please enter code from redirected urlAQCGAgYifnh9x9qYmOgyGg2UGwP31tydFS-sZlB15R9ODxtESPsRFJ7DqSODWFU1tBKDkuRypyGsp59i3Lp31eTM7Okg8Fj3FMZHZmhNYDZJY0jQtA7IZKQP7MjcF0ctW2nkh1BHEvMrlQ1slW0cp_ZQK9yIWMoyl7YLg12ryKOIBbyQH-A5ixr56HnqdnwY02Iv4CTvAqoVTvys_KnbL5CrlycJDghJBuhZYwyMDE5iPW9hCepEWauUSAXirqybHrjHsuxLBi0qUUn_PC7ayKzuB1__O13Aq1RxGxrf0P7iJGAT4LBmCiWyKoqWfSPwwjeDFtbqmvCNasBZOwq-sMMfBMs\n",
      "Correct input code\n"
     ]
    }
   ],
   "source": [
    "admin = Admin('root', 'motogp1989')"
   ]
  },
  {
   "cell_type": "code",
   "execution_count": 81,
   "metadata": {},
   "outputs": [],
   "source": [
    "admin.update_missing_artists()"
   ]
  },
  {
   "cell_type": "code",
   "execution_count": 83,
   "metadata": {},
   "outputs": [],
   "source": [
    "admin.dummy()"
   ]
  },
  {
   "cell_type": "code",
   "execution_count": 84,
   "metadata": {},
   "outputs": [],
   "source": [
    "import re"
   ]
  },
  {
   "cell_type": "code",
   "execution_count": 85,
   "metadata": {},
   "outputs": [],
   "source": [
    "date = '1945-9-12'"
   ]
  },
  {
   "cell_type": "code",
   "execution_count": 86,
   "metadata": {},
   "outputs": [],
   "source": [
    "pattern = r'\\d{4}'\n",
    "\n",
    "year = re.search(pattern, date).group()"
   ]
  },
  {
   "cell_type": "code",
   "execution_count": 87,
   "metadata": {},
   "outputs": [
    {
     "data": {
      "text/plain": [
       "'1945'"
      ]
     },
     "execution_count": 87,
     "metadata": {},
     "output_type": "execute_result"
    }
   ],
   "source": [
    "year"
   ]
  },
  {
   "cell_type": "code",
   "execution_count": null,
   "metadata": {},
   "outputs": [],
   "source": [
    "dataset.get_score_by_top_song"
   ]
  },
  {
   "cell_type": "code",
   "execution_count": 57,
   "metadata": {
    "scrolled": true
   },
   "outputs": [],
   "source": [
    "df, df_selected = dataset.select_songs_playlist(20,'kekio89','paulacastro3', 'guzska')"
   ]
  },
  {
   "cell_type": "code",
   "execution_count": 59,
   "metadata": {},
   "outputs": [
    {
     "data": {
      "text/html": [
       "<div>\n",
       "<style scoped>\n",
       "    .dataframe tbody tr th:only-of-type {\n",
       "        vertical-align: middle;\n",
       "    }\n",
       "\n",
       "    .dataframe tbody tr th {\n",
       "        vertical-align: top;\n",
       "    }\n",
       "\n",
       "    .dataframe thead th {\n",
       "        text-align: right;\n",
       "    }\n",
       "</style>\n",
       "<table border=\"1\" class=\"dataframe\">\n",
       "  <thead>\n",
       "    <tr style=\"text-align: right;\">\n",
       "      <th></th>\n",
       "      <th>user_id</th>\n",
       "      <th>song_id</th>\n",
       "      <th>top_song_points</th>\n",
       "      <th>top_artist_points</th>\n",
       "      <th>popularity_points</th>\n",
       "      <th>genre_points</th>\n",
       "      <th>total_points</th>\n",
       "    </tr>\n",
       "  </thead>\n",
       "  <tbody>\n",
       "    <tr>\n",
       "      <th>0</th>\n",
       "      <td>kekio89</td>\n",
       "      <td>79WPmfMHMPaFX2ius3DgXU</td>\n",
       "      <td>0</td>\n",
       "      <td>0</td>\n",
       "      <td>16</td>\n",
       "      <td>8</td>\n",
       "      <td>24</td>\n",
       "    </tr>\n",
       "    <tr>\n",
       "      <th>1</th>\n",
       "      <td>kekio89</td>\n",
       "      <td>0n2moJpAEWHwaPYYjkzMDl</td>\n",
       "      <td>0</td>\n",
       "      <td>0</td>\n",
       "      <td>88</td>\n",
       "      <td>28</td>\n",
       "      <td>116</td>\n",
       "    </tr>\n",
       "    <tr>\n",
       "      <th>2</th>\n",
       "      <td>kekio89</td>\n",
       "      <td>4qHdhSUkmDh6r7Ea4NzAvM</td>\n",
       "      <td>173</td>\n",
       "      <td>0</td>\n",
       "      <td>53</td>\n",
       "      <td>28</td>\n",
       "      <td>254</td>\n",
       "    </tr>\n",
       "    <tr>\n",
       "      <th>3</th>\n",
       "      <td>kekio89</td>\n",
       "      <td>0JhKJg5ejeQ8jq89UQtnw8</td>\n",
       "      <td>85</td>\n",
       "      <td>50</td>\n",
       "      <td>76</td>\n",
       "      <td>28</td>\n",
       "      <td>239</td>\n",
       "    </tr>\n",
       "    <tr>\n",
       "      <th>4</th>\n",
       "      <td>kekio89</td>\n",
       "      <td>4JaLkM90MJutDAl5jD9BZX</td>\n",
       "      <td>0</td>\n",
       "      <td>0</td>\n",
       "      <td>73</td>\n",
       "      <td>8</td>\n",
       "      <td>81</td>\n",
       "    </tr>\n",
       "    <tr>\n",
       "      <th>...</th>\n",
       "      <td>...</td>\n",
       "      <td>...</td>\n",
       "      <td>...</td>\n",
       "      <td>...</td>\n",
       "      <td>...</td>\n",
       "      <td>...</td>\n",
       "      <td>...</td>\n",
       "    </tr>\n",
       "    <tr>\n",
       "      <th>829</th>\n",
       "      <td>guzska</td>\n",
       "      <td>4Yf5bqU3NK4kNOypcrLYwU</td>\n",
       "      <td>0</td>\n",
       "      <td>0</td>\n",
       "      <td>70</td>\n",
       "      <td>17</td>\n",
       "      <td>87</td>\n",
       "    </tr>\n",
       "    <tr>\n",
       "      <th>830</th>\n",
       "      <td>guzska</td>\n",
       "      <td>3vAn0qZzdyuHamcrpkfiX3</td>\n",
       "      <td>0</td>\n",
       "      <td>0</td>\n",
       "      <td>84</td>\n",
       "      <td>3</td>\n",
       "      <td>87</td>\n",
       "    </tr>\n",
       "    <tr>\n",
       "      <th>831</th>\n",
       "      <td>guzska</td>\n",
       "      <td>5yDL13y5giogKs2fSNf7sj</td>\n",
       "      <td>0</td>\n",
       "      <td>0</td>\n",
       "      <td>74</td>\n",
       "      <td>10</td>\n",
       "      <td>84</td>\n",
       "    </tr>\n",
       "    <tr>\n",
       "      <th>832</th>\n",
       "      <td>guzska</td>\n",
       "      <td>78qd8dvwea0Gosb6Fe6j3k</td>\n",
       "      <td>0</td>\n",
       "      <td>0</td>\n",
       "      <td>84</td>\n",
       "      <td>3</td>\n",
       "      <td>87</td>\n",
       "    </tr>\n",
       "    <tr>\n",
       "      <th>833</th>\n",
       "      <td>guzska</td>\n",
       "      <td>26NvvgOgqzl70eHog89q0I</td>\n",
       "      <td>60</td>\n",
       "      <td>0</td>\n",
       "      <td>27</td>\n",
       "      <td>10</td>\n",
       "      <td>97</td>\n",
       "    </tr>\n",
       "  </tbody>\n",
       "</table>\n",
       "<p>834 rows × 7 columns</p>\n",
       "</div>"
      ],
      "text/plain": [
       "     user_id                 song_id  top_song_points  top_artist_points  \\\n",
       "0    kekio89  79WPmfMHMPaFX2ius3DgXU                0                  0   \n",
       "1    kekio89  0n2moJpAEWHwaPYYjkzMDl                0                  0   \n",
       "2    kekio89  4qHdhSUkmDh6r7Ea4NzAvM              173                  0   \n",
       "3    kekio89  0JhKJg5ejeQ8jq89UQtnw8               85                 50   \n",
       "4    kekio89  4JaLkM90MJutDAl5jD9BZX                0                  0   \n",
       "..       ...                     ...              ...                ...   \n",
       "829   guzska  4Yf5bqU3NK4kNOypcrLYwU                0                  0   \n",
       "830   guzska  3vAn0qZzdyuHamcrpkfiX3                0                  0   \n",
       "831   guzska  5yDL13y5giogKs2fSNf7sj                0                  0   \n",
       "832   guzska  78qd8dvwea0Gosb6Fe6j3k                0                  0   \n",
       "833   guzska  26NvvgOgqzl70eHog89q0I               60                  0   \n",
       "\n",
       "     popularity_points  genre_points  total_points  \n",
       "0                   16             8            24  \n",
       "1                   88            28           116  \n",
       "2                   53            28           254  \n",
       "3                   76            28           239  \n",
       "4                   73             8            81  \n",
       "..                 ...           ...           ...  \n",
       "829                 70            17            87  \n",
       "830                 84             3            87  \n",
       "831                 74            10            84  \n",
       "832                 84             3            87  \n",
       "833                 27            10            97  \n",
       "\n",
       "[834 rows x 7 columns]"
      ]
     },
     "execution_count": 59,
     "metadata": {},
     "output_type": "execute_result"
    }
   ],
   "source": [
    "df"
   ]
  },
  {
   "cell_type": "code",
   "execution_count": 61,
   "metadata": {},
   "outputs": [
    {
     "data": {
      "text/plain": [
       "['0ct6r3EGTcMLPtrXHDvVjc',\n",
       " '5UqCQaDshqbIk3pkhy4Pjg',\n",
       " '4J7CKHCF3mdL4diUsmW8lq',\n",
       " '0TDLuuLlV54CkRRUOahJb4',\n",
       " '0nrRP2bk19rLc0orkWPQk2',\n",
       " '2x0RZdkZcD8QRI53XT4GI5',\n",
       " '37ZtpRBkHcaq6hHy0X98zn',\n",
       " '2P4OICZRVAQcYAV2JReRfj',\n",
       " '4h8VwCb1MTGoLKueQ1WgbD',\n",
       " '5KawlOMHjWeUjQtnuRs22c',\n",
       " '46lFttIf5hnUZMGvjK0Wxo',\n",
       " '249gnXrbfmV8NG6jTEMSwD',\n",
       " '6Pgkp4qUoTmJIPn7ReaGxL',\n",
       " '4Ws314Ylb27BVsvlZOy30C',\n",
       " '7w87IxuO7BDcJ3YUqCyMTT',\n",
       " '23L5CiUhw2jV1OIMwthR3S',\n",
       " '6YUTL4dYpB9xZO5qExPf05',\n",
       " '1Zyd6zQnC6XIIzmg3hP7Ot',\n",
       " '4SFknyjLcyTLJFPKD2m96o',\n",
       " '4SS4YfDAEQG0fZAe1xfgn3']"
      ]
     },
     "execution_count": 61,
     "metadata": {},
     "output_type": "execute_result"
    }
   ],
   "source": [
    "list(df_selected.song_id)"
   ]
  },
  {
   "cell_type": "code",
   "execution_count": 66,
   "metadata": {},
   "outputs": [],
   "source": [
    "aaaa = ['a','b','c']"
   ]
  },
  {
   "cell_type": "code",
   "execution_count": 69,
   "metadata": {},
   "outputs": [
    {
     "data": {
      "text/plain": [
       "['new', 'a', 'b', 'c']"
      ]
     },
     "execution_count": 69,
     "metadata": {},
     "output_type": "execute_result"
    }
   ],
   "source": [
    "aaaa"
   ]
  },
  {
   "cell_type": "code",
   "execution_count": 68,
   "metadata": {},
   "outputs": [],
   "source": [
    "aaaa.insert(0, 'new')"
   ]
  },
  {
   "cell_type": "code",
   "execution_count": null,
   "metadata": {},
   "outputs": [],
   "source": []
  },
  {
   "cell_type": "code",
   "execution_count": 24,
   "metadata": {},
   "outputs": [
    {
     "data": {
      "text/plain": [
       "['caca', 'caca', 'caca', 'caca', 'caca']"
      ]
     },
     "execution_count": 24,
     "metadata": {},
     "output_type": "execute_result"
    }
   ],
   "source": [
    "['caca'] * 5"
   ]
  },
  {
   "cell_type": "code",
   "execution_count": null,
   "metadata": {},
   "outputs": [],
   "source": [
    "from src.admin import Admin"
   ]
  },
  {
   "cell_type": "code",
   "execution_count": 3,
   "metadata": {
    "scrolled": true
   },
   "outputs": [
    {
     "name": "stdout",
     "output_type": "stream",
     "text": [
      "Identification is required. Please click on link below.\n",
      "Please enter code from redirected urlAQDjQKwXSphHGsfpk_THG_uxyeGYHvCY9h6TNtEC1pJJDYwI0D_pg-0XY0Q8b8oYVsLDCN1UZodNm71Qmz_g-WxtuJyYsQrfyogqYNU3npCSq2gs83E4UAWKIwMDsdQHrXK5buEqNVVzoJJ3WhaZ5Ni0KgSC630G2IUCxvZxfsTRM77kBwrjsV7FIdtbaPkFY0Ykq0xbIs_0ASwuG1_wd0cAzT4RL2U5gTCByJelz14PPpmZQ8PxGTL0lCvVEs3MXQUmQgkRqqala7bO5tXayVf_ppiFxb9d50sXpt6asuxhY9F8DtPVG4pilviBKCqy6NUzB842w5_vPzQi9HvKKlupKM4\n",
      "Correct input code\n"
     ]
    }
   ],
   "source": [
    "admin = Admin('root', 'motogp1989')"
   ]
  },
  {
   "cell_type": "code",
   "execution_count": 10,
   "metadata": {},
   "outputs": [],
   "source": [
    "admin.update_albums_table_missing()"
   ]
  },
  {
   "cell_type": "code",
   "execution_count": 88,
   "metadata": {},
   "outputs": [
    {
     "name": "stderr",
     "output_type": "stream",
     "text": [
      "Exception during reset or similar\n",
      "Traceback (most recent call last):\n",
      "  File \"/home/sergio/anaconda3/envs/spoti/lib/python3.8/site-packages/sqlalchemy/pool/base.py\", line 697, in _finalize_fairy\n",
      "    fairy._reset(pool)\n",
      "  File \"/home/sergio/anaconda3/envs/spoti/lib/python3.8/site-packages/sqlalchemy/pool/base.py\", line 893, in _reset\n",
      "    pool._dialect.do_rollback(self)\n",
      "  File \"/home/sergio/anaconda3/envs/spoti/lib/python3.8/site-packages/sqlalchemy/dialects/mysql/base.py\", line 2374, in do_rollback\n",
      "    dbapi_connection.rollback()\n",
      "MySQLdb._exceptions.OperationalError: (2006, 'MySQL server has gone away')\n"
     ]
    },
    {
     "ename": "NameError",
     "evalue": "name 'adf' is not defined",
     "output_type": "error",
     "traceback": [
      "\u001b[0;31m---------------------------------------------------------------------------\u001b[0m",
      "\u001b[0;31mNameError\u001b[0m                                 Traceback (most recent call last)",
      "\u001b[0;32m<ipython-input-88-eee85bca3608>\u001b[0m in \u001b[0;36m<module>\u001b[0;34m\u001b[0m\n\u001b[0;32m----> 1\u001b[0;31m \u001b[0madf\u001b[0m\u001b[0;34m\u001b[0m\u001b[0;34m\u001b[0m\u001b[0m\n\u001b[0m",
      "\u001b[0;31mNameError\u001b[0m: name 'adf' is not defined"
     ]
    }
   ],
   "source": [
    "adf"
   ]
  },
  {
   "cell_type": "code",
   "execution_count": null,
   "metadata": {},
   "outputs": [],
   "source": []
  },
  {
   "cell_type": "code",
   "execution_count": 89,
   "metadata": {},
   "outputs": [],
   "source": [
    "from sklearn.metrics.pairwise import cosine_similarity\n",
    "\n"
   ]
  },
  {
   "cell_type": "code",
   "execution_count": 115,
   "metadata": {},
   "outputs": [],
   "source": [
    "a = [[12,50,1,36]]\n",
    "b = [0,50,1,36]\n",
    "c = [0,50,1,36]"
   ]
  },
  {
   "cell_type": "code",
   "execution_count": 116,
   "metadata": {},
   "outputs": [],
   "source": [
    "d = [b,c]"
   ]
  },
  {
   "cell_type": "code",
   "execution_count": 124,
   "metadata": {},
   "outputs": [
    {
     "data": {
      "text/plain": [
       "array([0.98156052, 0.98156052])"
      ]
     },
     "execution_count": 124,
     "metadata": {},
     "output_type": "execute_result"
    }
   ],
   "source": [
    "result[0]"
   ]
  },
  {
   "cell_type": "code",
   "execution_count": 118,
   "metadata": {},
   "outputs": [],
   "source": [
    "result =cosine_similarity(a,d)"
   ]
  },
  {
   "cell_type": "code",
   "execution_count": null,
   "metadata": {},
   "outputs": [],
   "source": [
    "(X, Y=None, dense_output=True)"
   ]
  },
  {
   "cell_type": "code",
   "execution_count": 2,
   "metadata": {},
   "outputs": [],
   "source": [
    "a = dataset.get_all_users('kekio89')"
   ]
  },
  {
   "cell_type": "code",
   "execution_count": 108,
   "metadata": {},
   "outputs": [],
   "source": [
    "d= {'z': 1, 'b':6,'f':88,'l':9}"
   ]
  },
  {
   "cell_type": "code",
   "execution_count": 97,
   "metadata": {},
   "outputs": [
    {
     "data": {
      "text/plain": [
       "dict_values([1, 6, 88, 9])"
      ]
     },
     "execution_count": 97,
     "metadata": {},
     "output_type": "execute_result"
    }
   ],
   "source": [
    "a.values()"
   ]
  },
  {
   "cell_type": "code",
   "execution_count": 109,
   "metadata": {},
   "outputs": [],
   "source": [
    "d = [list(d.values())]"
   ]
  },
  {
   "cell_type": "code",
   "execution_count": 3,
   "metadata": {},
   "outputs": [
    {
     "data": {
      "text/plain": [
       "['21zaejyb37duu75m7aneiphxi',\n",
       " 'dummy',\n",
       " 'guzska',\n",
       " 'lalilolaloleilo',\n",
       " 'paulacastro3',\n",
       " 'sandra_pk4',\n",
       " 'saradiaz79-es']"
      ]
     },
     "execution_count": 3,
     "metadata": {},
     "output_type": "execute_result"
    }
   ],
   "source": [
    "a"
   ]
  },
  {
   "cell_type": "code",
   "execution_count": 37,
   "metadata": {},
   "outputs": [],
   "source": [
    "b =  dataset.fetch_user2_profile('kekio89')"
   ]
  },
  {
   "cell_type": "code",
   "execution_count": 38,
   "metadata": {},
   "outputs": [
    {
     "data": {
      "text/plain": [
       "{'user_id': 'kekio89',\n",
       " 'name': 'Sergio Gonzalainen',\n",
       " 'country': 'ES',\n",
       " 'num_followers': 12,\n",
       " 'img_url': 'https://scontent-cdt1-1.xx.fbcdn.net/v/t1.0-1/p320x320/47391782_10156693353688954_3686657187943284736_n.jpg?_nc_cat=103&ccb=2&_nc_sid=0c64ff&_nc_ohc=FKZ3EW7XWu8AX8Ul7zB&_nc_ht=scontent-cdt1-1.xx&tp=6&oh=80e280fd53ac57546c8e7234b9c8a1fc&oe=5FEB2C08'}"
      ]
     },
     "execution_count": 38,
     "metadata": {},
     "output_type": "execute_result"
    }
   ],
   "source": [
    "b"
   ]
  },
  {
   "cell_type": "code",
   "execution_count": 5,
   "metadata": {},
   "outputs": [],
   "source": [
    "user1_info = np.array(list(mysql.find_user_all_songs_ids('kekio89')))"
   ]
  },
  {
   "cell_type": "code",
   "execution_count": 6,
   "metadata": {},
   "outputs": [
    {
     "data": {
      "text/plain": [
       "array([['5UqCQaDshqbIk3pkhy4Pjg', '76', 'electro', 'kekio89'],\n",
       "       ['0ct6r3EGTcMLPtrXHDvVjc', '82', 'electro', 'kekio89'],\n",
       "       ['46lFttIf5hnUZMGvjK0Wxo', '75', 'electro', 'kekio89'],\n",
       "       ['7gUg4GdOA6Y6yRDe36GIjK', '51', 'electro', 'kekio89'],\n",
       "       ['0TDLuuLlV54CkRRUOahJb4', '79', 'electro', 'kekio89'],\n",
       "       ['4J7CKHCF3mdL4diUsmW8lq', '73', 'electro', 'kekio89'],\n",
       "       ['0nrRP2bk19rLc0orkWPQk2', '84', 'electro', 'kekio89'],\n",
       "       ['61ZM92T2zaXIVsqncThQzC', '80', 'rap', 'kekio89'],\n",
       "       ['2x0RZdkZcD8QRI53XT4GI5', '78', 'electro', 'kekio89'],\n",
       "       ['5bnMKUXkMfYVXW8FjvFTuV', '64', 'rock', 'kekio89'],\n",
       "       ['1trC8L8YpawkU553ymy2zC', '63', 'electro', 'kekio89'],\n",
       "       ['2hjQWuAy9fsSykGerWU8Wi', '51', 'rock', 'kekio89'],\n",
       "       ['2P4OICZRVAQcYAV2JReRfj', '80', 'electro', 'kekio89'],\n",
       "       ['5jyUBKpmaH670zrXrE0wmO', '66', 'electro', 'kekio89'],\n",
       "       ['4qHdhSUkmDh6r7Ea4NzAvM', '53', 'electro', 'kekio89'],\n",
       "       ['0vrmHPfoBadXVr2n0m1aqZ', '74', 'electro', 'kekio89'],\n",
       "       ['23L5CiUhw2jV1OIMwthR3S', '79', 'electro', 'kekio89'],\n",
       "       ['6YUTL4dYpB9xZO5qExPf05', '80', 'electro', 'kekio89'],\n",
       "       ['6Pgkp4qUoTmJIPn7ReaGxL', '78', 'electro', 'kekio89'],\n",
       "       ['2rXJfBY9e14Bw2Nb9qijbE', '11', 'reggaeton', 'kekio89'],\n",
       "       ['78qd8dvwea0Gosb6Fe6j3k', '84', 'rap', 'kekio89'],\n",
       "       ['2aibwv5hGXSgw7Yru8IYTO', '79', 'rock', 'kekio89'],\n",
       "       ['4h8VwCb1MTGoLKueQ1WgbD', '84', 'electro', 'kekio89'],\n",
       "       ['7mitXLIMCflkhZiD34uEQI', '72', 'electro', 'kekio89'],\n",
       "       ['01km0N5v4vhwqFyW4H1X0n', '40', 'electro', 'kekio89'],\n",
       "       ['4lhqb6JvbHId48OUJGwymk', '76', 'electro', 'kekio89'],\n",
       "       ['5pmL3RzOy3IvGFaSDi4hZL', '73', 'electro', 'kekio89'],\n",
       "       ['0WQf8kcrI1yb6l2vpKjsOI', '65', 'electro', 'kekio89'],\n",
       "       ['4vvnuJlgBeNVwq3TNmLMNX', '62', 'electro', 'kekio89'],\n",
       "       ['72SpPFrMYCXLB3Fbw9tEgf', '64', 'electro', 'kekio89'],\n",
       "       ['5PX4uS1LqlWEPL69phPVQQ', '75', 'electro', 'kekio89'],\n",
       "       ['4kbYevkszYmMhoQcwnR7cZ', '66', 'rock', 'kekio89'],\n",
       "       ['5yDL13y5giogKs2fSNf7sj', '74', 'electro', 'kekio89'],\n",
       "       ['5Xx95GLKXZmXMHpLT2ES76', '52', 'rap', 'kekio89'],\n",
       "       ['2V65y3PX4DkRhy1djlxd9p', '78', 'electro', 'kekio89'],\n",
       "       ['3GTXok0dIm0mMqBiVklBYS', '57', 'electro', 'kekio89'],\n",
       "       ['0kGEwM9SuACvojllsFMpAR', '50', 'electro', 'kekio89'],\n",
       "       ['7lQWRAjyhTpCWFC0jmclT4', '82', 'rap', 'kekio89'],\n",
       "       ['60a0Rd6pjrkxjPbaKzXjfq', '84', 'rock', 'kekio89'],\n",
       "       ['09TcIuH1ZO7i4vicWKoaN2', '55', 'electro', 'kekio89'],\n",
       "       ['2AackF0QRSQeRovrkWSsOo', '53', 'electro', 'kekio89'],\n",
       "       ['3Uyt0WO3wOopnUBCe9BaXl', '61', 'electro', 'kekio89'],\n",
       "       ['2wlptOJ1g5fvLdu6ruKCKU', '66', 'reggaeton', 'kekio89'],\n",
       "       ['4Yf5bqU3NK4kNOypcrLYwU', '70', 'rock', 'kekio89'],\n",
       "       ['08E0TIudwefGjA27W4zrnf', '65', 'rock', 'kekio89'],\n",
       "       ['0JhKJg5ejeQ8jq89UQtnw8', '76', 'electro', 'kekio89'],\n",
       "       ['6Z8R6UsFuGXGtiIxiD8ISb', '80', 'electro', 'kekio89'],\n",
       "       ['1LkoYGxmYpO6QSEvY5C0Zl', '68', 'rock', 'kekio89'],\n",
       "       ['3Xan7x0swSa4C7MdfR0iub', '77', 'rap', 'kekio89'],\n",
       "       ['1usr8G645qLjRvwZGappbL', '31', 'rap', 'kekio89'],\n",
       "       ['3cwDSDzTiWr5H5xMQhQ6Mx', '67', 'rock', 'kekio89'],\n",
       "       ['503OTo2dSqe7qk76rgsbep', '80', 'rap', 'kekio89'],\n",
       "       ['29f9l4ImBUkA33j8kQBy65', '56', 'electro', 'kekio89'],\n",
       "       ['0jqK7sGTLsHPkQrrcrGuKD', '70', 'rock', 'kekio89'],\n",
       "       ['0Jrfdet0gqKk1SZ0SLMR2L', '33', 'electro', 'kekio89'],\n",
       "       ['21Ay8mJRYQuOMZp7qyQXl6', '59', 'electro', 'kekio89'],\n",
       "       ['7w9bgPAmPTtrkt2v16QWvQ', '77', 'rap', 'kekio89'],\n",
       "       ['3QRM0qZB7oMYavveH0iEqx', '56', 'rap', 'kekio89'],\n",
       "       ['7F9JEUSWBBzrByXA3FszFX', '62', 'electro', 'kekio89'],\n",
       "       ['3d9DChrdc6BOeFsbrZ3Is0', '81', 'rock', 'kekio89'],\n",
       "       ['43dijXylJjKuis4lVZGZea', '56', 'electro', 'kekio89'],\n",
       "       ['2GgxS8bUT5G25QJTsfSv0R', '71', 'electro', 'kekio89'],\n",
       "       ['75NhhYjHO43mvZgYtnXgti', '71', 'pop', 'kekio89'],\n",
       "       ['2wJxsOw3EYkEYtlQ0IDwOE', '37', 'reggaeton', 'kekio89'],\n",
       "       ['7zrpoAJte9o12TzawqgdD0', '66', 'classic', 'kekio89'],\n",
       "       ['7N1XjfWPlOG0gviJB7AMX1', '17', 'rock', 'kekio89'],\n",
       "       ['1B75hgRqe7A4fwee3g3Wmu', '73', 'rap', 'kekio89'],\n",
       "       ['25ZEYUgCJyf3gRxkqYbkIc', '58', 'electro', 'kekio89'],\n",
       "       ['0BuV9tHB6tm3Ron8xt1hPD', '29', 'electro', 'kekio89'],\n",
       "       ['3s03nrUInN3NAVjQtmnS0O', '64', 'rock', 'kekio89'],\n",
       "       ['3o1CUVeHIid49sabk6A6Nf', '70', 'electro', 'kekio89'],\n",
       "       ['546QTayX6j4GcZsfTRrVnL', '50', 'rap', 'kekio89'],\n",
       "       ['3aQz0z86zrKjd1mcZlonxE', '72', 'electro', 'kekio89'],\n",
       "       ['1brwdYwjltrJo7WHpIvbYt', '80', 'electro', 'kekio89'],\n",
       "       ['1I8tHoNBFTuoJAlh4hfVVE', '77', 'reggaeton', 'kekio89'],\n",
       "       ['1Vej0qeQ3ioKwpI6FUbRv1', '72', 'rock', 'kekio89'],\n",
       "       ['5kQre7o8ky5DXeEPcyaCR1', '79', 'reggaeton', 'kekio89'],\n",
       "       ['5aEqcblO0Z6JloFJXtxyhe', '70', 'electro', 'kekio89'],\n",
       "       ['6VRhkROS2SZHGlp0pxndbJ', '72', 'rap', 'kekio89'],\n",
       "       ['41JrRedwrJxbBPwI8Qku04', '50', 'rock', 'kekio89'],\n",
       "       ['6kV8r0Qgaxc1MHvkD1jaai', '41', 'rap', 'kekio89'],\n",
       "       ['3B7udSGy2PfgoCniMSb523', '75', 'classic', 'kekio89'],\n",
       "       ['4aWmUDTfIPGksMNLV2rQP2', '79', 'reggaeton', 'kekio89'],\n",
       "       ['54ZPmGE1uOG9IYoUBSRSp7', '60', 'electro', 'kekio89'],\n",
       "       ['24LS4lQShWyixJ0ZrJXfJ5', '72', 'electro', 'kekio89'],\n",
       "       ['6ZEYvUSgON3J5Qe1RYi3Jo', '60', 'electro', 'kekio89'],\n",
       "       ['1Eu8TaJ8xyP63VtsBOYdi1', '41', 'electro', 'kekio89'],\n",
       "       ['6h5PAsRni4IRlxWr6uDPTP', '79', 'electro', 'kekio89'],\n",
       "       ['591nHHHzZl1NLt9PMKpinM', '61', 'electro', 'kekio89'],\n",
       "       ['4JjUwfp8GQ3PxWg2QPKnpn', '62', 'electro', 'kekio89'],\n",
       "       ['4CVOUJki8YUWol3jhLphgs', '65', 'electro', 'kekio89'],\n",
       "       ['2A17TySL9lcoRTA28w9yfB', '53', 'electro', 'kekio89'],\n",
       "       ['5e45GhSF18JYoLpaq2F48h', '66', 'electro', 'kekio89'],\n",
       "       ['05SBRd4fXgn8FX7bf8BCAE', '71', 'electro', 'kekio89'],\n",
       "       ['46NBoIAHrmR7qcUGCIFEjR', '68', 'electro', 'kekio89'],\n",
       "       ['5sNESr6pQfIhL3krM8CtZn', '76', 'rap', 'kekio89'],\n",
       "       ['1gihuPhrLraKYrJMAEONyc', '80', 'electro', 'kekio89'],\n",
       "       ['3gNGi2iUGHXGpBQHce6Nua', '76', 'rock', 'kekio89'],\n",
       "       ['2VxeLyX666F8uXCJ0dZF8B', '86', 'pop', 'kekio89'],\n",
       "       ['3E7ZwUMJFqpsDOJzEkBrQ7', '74', 'pop', 'kekio89'],\n",
       "       ['4T33JYubGGldKpWcP8qcuQ', '33', 'pop', 'kekio89'],\n",
       "       ['3nMEC3nwNEWnN1bBMbC7Sd', '15', 'pop', 'kekio89'],\n",
       "       ['3ebXMykcMXOcLeJ9xZ17XH', '79', 'electro', 'kekio89'],\n",
       "       ['6yr8GiTHWvFfi4o6Q5ebdT', '84', 'rap', 'kekio89'],\n",
       "       ['3n3Ppam7vgaVa1iaRUc9Lp', '69', 'rock', 'kekio89'],\n",
       "       ['7gHs73wELdeycvS48JfIos', '75', 'electro', 'kekio89'],\n",
       "       ['10Nmj3JCNoMeBQ87uw5j8k', '77', 'rock', 'kekio89'],\n",
       "       ['65hRZOQkVjmBdusz1N7aOv', '66', 'electro', 'kekio89'],\n",
       "       ['0XinBYhf1X3kdvKQHOX971', '85', 'reggaeton', 'kekio89'],\n",
       "       ['7N1abdI3wIAFxGZ9637MFq', '34', 'electro', 'kekio89'],\n",
       "       ['0DxN6Ywom8nnndyQXdSBPy', '60', 'rock', 'kekio89'],\n",
       "       ['0poEFjyV2iHKtxjdWFwjmS', '66', 'electro', 'kekio89']],\n",
       "      dtype='<U22')"
      ]
     },
     "execution_count": 6,
     "metadata": {},
     "output_type": "execute_result"
    }
   ],
   "source": [
    "user1_info"
   ]
  },
  {
   "cell_type": "code",
   "execution_count": 15,
   "metadata": {},
   "outputs": [
    {
     "data": {
      "text/plain": [
       "(112, 4)"
      ]
     },
     "execution_count": 15,
     "metadata": {},
     "output_type": "execute_result"
    }
   ],
   "source": [
    "user1_info.shape"
   ]
  },
  {
   "cell_type": "code",
   "execution_count": null,
   "metadata": {},
   "outputs": [],
   "source": []
  },
  {
   "cell_type": "code",
   "execution_count": 16,
   "metadata": {},
   "outputs": [],
   "source": [
    "b = dataset.remove_match_song(user1_info, ['0ct6r3EGTcMLPtrXHDvVjc'])"
   ]
  },
  {
   "cell_type": "code",
   "execution_count": 17,
   "metadata": {},
   "outputs": [
    {
     "data": {
      "text/plain": [
       "(111, 4)"
      ]
     },
     "execution_count": 17,
     "metadata": {},
     "output_type": "execute_result"
    }
   ],
   "source": [
    "b.shape"
   ]
  },
  {
   "cell_type": "code",
   "execution_count": 18,
   "metadata": {},
   "outputs": [
    {
     "data": {
      "text/plain": [
       "array([['5UqCQaDshqbIk3pkhy4Pjg', '76', 'electro', 'kekio89'],\n",
       "       ['46lFttIf5hnUZMGvjK0Wxo', '75', 'electro', 'kekio89'],\n",
       "       ['7gUg4GdOA6Y6yRDe36GIjK', '51', 'electro', 'kekio89'],\n",
       "       ['0TDLuuLlV54CkRRUOahJb4', '79', 'electro', 'kekio89'],\n",
       "       ['4J7CKHCF3mdL4diUsmW8lq', '73', 'electro', 'kekio89'],\n",
       "       ['0nrRP2bk19rLc0orkWPQk2', '84', 'electro', 'kekio89'],\n",
       "       ['61ZM92T2zaXIVsqncThQzC', '80', 'rap', 'kekio89'],\n",
       "       ['2x0RZdkZcD8QRI53XT4GI5', '78', 'electro', 'kekio89'],\n",
       "       ['5bnMKUXkMfYVXW8FjvFTuV', '64', 'rock', 'kekio89'],\n",
       "       ['1trC8L8YpawkU553ymy2zC', '63', 'electro', 'kekio89'],\n",
       "       ['2hjQWuAy9fsSykGerWU8Wi', '51', 'rock', 'kekio89'],\n",
       "       ['2P4OICZRVAQcYAV2JReRfj', '80', 'electro', 'kekio89'],\n",
       "       ['5jyUBKpmaH670zrXrE0wmO', '66', 'electro', 'kekio89'],\n",
       "       ['4qHdhSUkmDh6r7Ea4NzAvM', '53', 'electro', 'kekio89'],\n",
       "       ['0vrmHPfoBadXVr2n0m1aqZ', '74', 'electro', 'kekio89'],\n",
       "       ['23L5CiUhw2jV1OIMwthR3S', '79', 'electro', 'kekio89'],\n",
       "       ['6YUTL4dYpB9xZO5qExPf05', '80', 'electro', 'kekio89'],\n",
       "       ['6Pgkp4qUoTmJIPn7ReaGxL', '78', 'electro', 'kekio89'],\n",
       "       ['2rXJfBY9e14Bw2Nb9qijbE', '11', 'reggaeton', 'kekio89'],\n",
       "       ['78qd8dvwea0Gosb6Fe6j3k', '84', 'rap', 'kekio89'],\n",
       "       ['2aibwv5hGXSgw7Yru8IYTO', '79', 'rock', 'kekio89'],\n",
       "       ['4h8VwCb1MTGoLKueQ1WgbD', '84', 'electro', 'kekio89'],\n",
       "       ['7mitXLIMCflkhZiD34uEQI', '72', 'electro', 'kekio89'],\n",
       "       ['01km0N5v4vhwqFyW4H1X0n', '40', 'electro', 'kekio89'],\n",
       "       ['4lhqb6JvbHId48OUJGwymk', '76', 'electro', 'kekio89'],\n",
       "       ['5pmL3RzOy3IvGFaSDi4hZL', '73', 'electro', 'kekio89'],\n",
       "       ['0WQf8kcrI1yb6l2vpKjsOI', '65', 'electro', 'kekio89'],\n",
       "       ['4vvnuJlgBeNVwq3TNmLMNX', '62', 'electro', 'kekio89'],\n",
       "       ['72SpPFrMYCXLB3Fbw9tEgf', '64', 'electro', 'kekio89'],\n",
       "       ['5PX4uS1LqlWEPL69phPVQQ', '75', 'electro', 'kekio89'],\n",
       "       ['4kbYevkszYmMhoQcwnR7cZ', '66', 'rock', 'kekio89'],\n",
       "       ['5yDL13y5giogKs2fSNf7sj', '74', 'electro', 'kekio89'],\n",
       "       ['5Xx95GLKXZmXMHpLT2ES76', '52', 'rap', 'kekio89'],\n",
       "       ['2V65y3PX4DkRhy1djlxd9p', '78', 'electro', 'kekio89'],\n",
       "       ['3GTXok0dIm0mMqBiVklBYS', '57', 'electro', 'kekio89'],\n",
       "       ['0kGEwM9SuACvojllsFMpAR', '50', 'electro', 'kekio89'],\n",
       "       ['7lQWRAjyhTpCWFC0jmclT4', '82', 'rap', 'kekio89'],\n",
       "       ['60a0Rd6pjrkxjPbaKzXjfq', '84', 'rock', 'kekio89'],\n",
       "       ['09TcIuH1ZO7i4vicWKoaN2', '55', 'electro', 'kekio89'],\n",
       "       ['2AackF0QRSQeRovrkWSsOo', '53', 'electro', 'kekio89'],\n",
       "       ['3Uyt0WO3wOopnUBCe9BaXl', '61', 'electro', 'kekio89'],\n",
       "       ['2wlptOJ1g5fvLdu6ruKCKU', '66', 'reggaeton', 'kekio89'],\n",
       "       ['4Yf5bqU3NK4kNOypcrLYwU', '70', 'rock', 'kekio89'],\n",
       "       ['08E0TIudwefGjA27W4zrnf', '65', 'rock', 'kekio89'],\n",
       "       ['0JhKJg5ejeQ8jq89UQtnw8', '76', 'electro', 'kekio89'],\n",
       "       ['6Z8R6UsFuGXGtiIxiD8ISb', '80', 'electro', 'kekio89'],\n",
       "       ['1LkoYGxmYpO6QSEvY5C0Zl', '68', 'rock', 'kekio89'],\n",
       "       ['3Xan7x0swSa4C7MdfR0iub', '77', 'rap', 'kekio89'],\n",
       "       ['1usr8G645qLjRvwZGappbL', '31', 'rap', 'kekio89'],\n",
       "       ['3cwDSDzTiWr5H5xMQhQ6Mx', '67', 'rock', 'kekio89'],\n",
       "       ['503OTo2dSqe7qk76rgsbep', '80', 'rap', 'kekio89'],\n",
       "       ['29f9l4ImBUkA33j8kQBy65', '56', 'electro', 'kekio89'],\n",
       "       ['0jqK7sGTLsHPkQrrcrGuKD', '70', 'rock', 'kekio89'],\n",
       "       ['0Jrfdet0gqKk1SZ0SLMR2L', '33', 'electro', 'kekio89'],\n",
       "       ['21Ay8mJRYQuOMZp7qyQXl6', '59', 'electro', 'kekio89'],\n",
       "       ['7w9bgPAmPTtrkt2v16QWvQ', '77', 'rap', 'kekio89'],\n",
       "       ['3QRM0qZB7oMYavveH0iEqx', '56', 'rap', 'kekio89'],\n",
       "       ['7F9JEUSWBBzrByXA3FszFX', '62', 'electro', 'kekio89'],\n",
       "       ['3d9DChrdc6BOeFsbrZ3Is0', '81', 'rock', 'kekio89'],\n",
       "       ['43dijXylJjKuis4lVZGZea', '56', 'electro', 'kekio89'],\n",
       "       ['2GgxS8bUT5G25QJTsfSv0R', '71', 'electro', 'kekio89'],\n",
       "       ['75NhhYjHO43mvZgYtnXgti', '71', 'pop', 'kekio89'],\n",
       "       ['2wJxsOw3EYkEYtlQ0IDwOE', '37', 'reggaeton', 'kekio89'],\n",
       "       ['7zrpoAJte9o12TzawqgdD0', '66', 'classic', 'kekio89'],\n",
       "       ['7N1XjfWPlOG0gviJB7AMX1', '17', 'rock', 'kekio89'],\n",
       "       ['1B75hgRqe7A4fwee3g3Wmu', '73', 'rap', 'kekio89'],\n",
       "       ['25ZEYUgCJyf3gRxkqYbkIc', '58', 'electro', 'kekio89'],\n",
       "       ['0BuV9tHB6tm3Ron8xt1hPD', '29', 'electro', 'kekio89'],\n",
       "       ['3s03nrUInN3NAVjQtmnS0O', '64', 'rock', 'kekio89'],\n",
       "       ['3o1CUVeHIid49sabk6A6Nf', '70', 'electro', 'kekio89'],\n",
       "       ['546QTayX6j4GcZsfTRrVnL', '50', 'rap', 'kekio89'],\n",
       "       ['3aQz0z86zrKjd1mcZlonxE', '72', 'electro', 'kekio89'],\n",
       "       ['1brwdYwjltrJo7WHpIvbYt', '80', 'electro', 'kekio89'],\n",
       "       ['1I8tHoNBFTuoJAlh4hfVVE', '77', 'reggaeton', 'kekio89'],\n",
       "       ['1Vej0qeQ3ioKwpI6FUbRv1', '72', 'rock', 'kekio89'],\n",
       "       ['5kQre7o8ky5DXeEPcyaCR1', '79', 'reggaeton', 'kekio89'],\n",
       "       ['5aEqcblO0Z6JloFJXtxyhe', '70', 'electro', 'kekio89'],\n",
       "       ['6VRhkROS2SZHGlp0pxndbJ', '72', 'rap', 'kekio89'],\n",
       "       ['41JrRedwrJxbBPwI8Qku04', '50', 'rock', 'kekio89'],\n",
       "       ['6kV8r0Qgaxc1MHvkD1jaai', '41', 'rap', 'kekio89'],\n",
       "       ['3B7udSGy2PfgoCniMSb523', '75', 'classic', 'kekio89'],\n",
       "       ['4aWmUDTfIPGksMNLV2rQP2', '79', 'reggaeton', 'kekio89'],\n",
       "       ['54ZPmGE1uOG9IYoUBSRSp7', '60', 'electro', 'kekio89'],\n",
       "       ['24LS4lQShWyixJ0ZrJXfJ5', '72', 'electro', 'kekio89'],\n",
       "       ['6ZEYvUSgON3J5Qe1RYi3Jo', '60', 'electro', 'kekio89'],\n",
       "       ['1Eu8TaJ8xyP63VtsBOYdi1', '41', 'electro', 'kekio89'],\n",
       "       ['6h5PAsRni4IRlxWr6uDPTP', '79', 'electro', 'kekio89'],\n",
       "       ['591nHHHzZl1NLt9PMKpinM', '61', 'electro', 'kekio89'],\n",
       "       ['4JjUwfp8GQ3PxWg2QPKnpn', '62', 'electro', 'kekio89'],\n",
       "       ['4CVOUJki8YUWol3jhLphgs', '65', 'electro', 'kekio89'],\n",
       "       ['2A17TySL9lcoRTA28w9yfB', '53', 'electro', 'kekio89'],\n",
       "       ['5e45GhSF18JYoLpaq2F48h', '66', 'electro', 'kekio89'],\n",
       "       ['05SBRd4fXgn8FX7bf8BCAE', '71', 'electro', 'kekio89'],\n",
       "       ['46NBoIAHrmR7qcUGCIFEjR', '68', 'electro', 'kekio89'],\n",
       "       ['5sNESr6pQfIhL3krM8CtZn', '76', 'rap', 'kekio89'],\n",
       "       ['1gihuPhrLraKYrJMAEONyc', '80', 'electro', 'kekio89'],\n",
       "       ['3gNGi2iUGHXGpBQHce6Nua', '76', 'rock', 'kekio89'],\n",
       "       ['2VxeLyX666F8uXCJ0dZF8B', '86', 'pop', 'kekio89'],\n",
       "       ['3E7ZwUMJFqpsDOJzEkBrQ7', '74', 'pop', 'kekio89'],\n",
       "       ['4T33JYubGGldKpWcP8qcuQ', '33', 'pop', 'kekio89'],\n",
       "       ['3nMEC3nwNEWnN1bBMbC7Sd', '15', 'pop', 'kekio89'],\n",
       "       ['3ebXMykcMXOcLeJ9xZ17XH', '79', 'electro', 'kekio89'],\n",
       "       ['6yr8GiTHWvFfi4o6Q5ebdT', '84', 'rap', 'kekio89'],\n",
       "       ['3n3Ppam7vgaVa1iaRUc9Lp', '69', 'rock', 'kekio89'],\n",
       "       ['7gHs73wELdeycvS48JfIos', '75', 'electro', 'kekio89'],\n",
       "       ['10Nmj3JCNoMeBQ87uw5j8k', '77', 'rock', 'kekio89'],\n",
       "       ['65hRZOQkVjmBdusz1N7aOv', '66', 'electro', 'kekio89'],\n",
       "       ['0XinBYhf1X3kdvKQHOX971', '85', 'reggaeton', 'kekio89'],\n",
       "       ['7N1abdI3wIAFxGZ9637MFq', '34', 'electro', 'kekio89'],\n",
       "       ['0DxN6Ywom8nnndyQXdSBPy', '60', 'rock', 'kekio89'],\n",
       "       ['0poEFjyV2iHKtxjdWFwjmS', '66', 'electro', 'kekio89']],\n",
       "      dtype='<U22')"
      ]
     },
     "execution_count": 18,
     "metadata": {},
     "output_type": "execute_result"
    }
   ],
   "source": [
    "b"
   ]
  },
  {
   "cell_type": "code",
   "execution_count": 4,
   "metadata": {},
   "outputs": [],
   "source": [
    "import networkx as nx\n",
    "import pandas as pd"
   ]
  },
  {
   "cell_type": "code",
   "execution_count": null,
   "metadata": {},
   "outputs": [],
   "source": []
  },
  {
   "cell_type": "code",
   "execution_count": 16,
   "metadata": {},
   "outputs": [],
   "source": [
    "a = pd.DataFrame(mysql.fetch_community(), columns = ['artist1', 'artist2'])"
   ]
  },
  {
   "cell_type": "code",
   "execution_count": 17,
   "metadata": {},
   "outputs": [
    {
     "data": {
      "text/html": [
       "<div>\n",
       "<style scoped>\n",
       "    .dataframe tbody tr th:only-of-type {\n",
       "        vertical-align: middle;\n",
       "    }\n",
       "\n",
       "    .dataframe tbody tr th {\n",
       "        vertical-align: top;\n",
       "    }\n",
       "\n",
       "    .dataframe thead th {\n",
       "        text-align: right;\n",
       "    }\n",
       "</style>\n",
       "<table border=\"1\" class=\"dataframe\">\n",
       "  <thead>\n",
       "    <tr style=\"text-align: right;\">\n",
       "      <th></th>\n",
       "      <th>artist1</th>\n",
       "      <th>artist2</th>\n",
       "    </tr>\n",
       "  </thead>\n",
       "  <tbody>\n",
       "    <tr>\n",
       "      <th>0</th>\n",
       "      <td>Wombat</td>\n",
       "      <td>Shadow</td>\n",
       "    </tr>\n",
       "    <tr>\n",
       "      <th>1</th>\n",
       "      <td>Wombat</td>\n",
       "      <td>Nerve</td>\n",
       "    </tr>\n",
       "    <tr>\n",
       "      <th>2</th>\n",
       "      <td>Wombat</td>\n",
       "      <td>Mitchos Da Menace</td>\n",
       "    </tr>\n",
       "    <tr>\n",
       "      <th>3</th>\n",
       "      <td>Wombat</td>\n",
       "      <td>Huskii</td>\n",
       "    </tr>\n",
       "    <tr>\n",
       "      <th>4</th>\n",
       "      <td>Wombat</td>\n",
       "      <td>Lil Sknow</td>\n",
       "    </tr>\n",
       "  </tbody>\n",
       "</table>\n",
       "</div>"
      ],
      "text/plain": [
       "  artist1            artist2\n",
       "0  Wombat             Shadow\n",
       "1  Wombat              Nerve\n",
       "2  Wombat  Mitchos Da Menace\n",
       "3  Wombat             Huskii\n",
       "4  Wombat          Lil Sknow"
      ]
     },
     "execution_count": 17,
     "metadata": {},
     "output_type": "execute_result"
    }
   ],
   "source": [
    "a.head()"
   ]
  },
  {
   "cell_type": "code",
   "execution_count": 18,
   "metadata": {},
   "outputs": [],
   "source": [
    "G = nx.from_pandas_edgelist(a,  source='artist1', target='artist2')"
   ]
  },
  {
   "cell_type": "code",
   "execution_count": 20,
   "metadata": {},
   "outputs": [
    {
     "name": "stdout",
     "output_type": "stream",
     "text": [
      "Name: \n",
      "Type: Graph\n",
      "Number of nodes: 74949\n",
      "Number of edges: 905030\n",
      "Average degree:  24.1506\n"
     ]
    }
   ],
   "source": [
    "print(nx.info(G))"
   ]
  },
  {
   "cell_type": "code",
   "execution_count": 21,
   "metadata": {},
   "outputs": [
    {
     "ename": "KeyboardInterrupt",
     "evalue": "",
     "output_type": "error",
     "traceback": [
      "\u001b[0;31m---------------------------------------------------------------------------\u001b[0m",
      "\u001b[0;31mKeyboardInterrupt\u001b[0m                         Traceback (most recent call last)",
      "\u001b[0;32m<ipython-input-21-033aa892eae1>\u001b[0m in \u001b[0;36m<module>\u001b[0;34m\u001b[0m\n\u001b[0;32m----> 1\u001b[0;31m \u001b[0mnx\u001b[0m\u001b[0;34m.\u001b[0m\u001b[0maverage_shortest_path_length\u001b[0m\u001b[0;34m(\u001b[0m\u001b[0mG\u001b[0m\u001b[0;34m)\u001b[0m\u001b[0;34m\u001b[0m\u001b[0;34m\u001b[0m\u001b[0m\n\u001b[0m",
      "\u001b[0;32m~/anaconda3/envs/spoti/lib/python3.8/site-packages/networkx/algorithms/shortest_paths/generic.py\u001b[0m in \u001b[0;36maverage_shortest_path_length\u001b[0;34m(G, weight, method)\u001b[0m\n\u001b[1;32m    417\u001b[0m     \u001b[0;32mif\u001b[0m \u001b[0mmethod\u001b[0m \u001b[0;32min\u001b[0m \u001b[0msingle_source_methods\u001b[0m\u001b[0;34m:\u001b[0m\u001b[0;34m\u001b[0m\u001b[0;34m\u001b[0m\u001b[0m\n\u001b[1;32m    418\u001b[0m         \u001b[0;31m# Sum the distances for each (ordered) pair of source and target node.\u001b[0m\u001b[0;34m\u001b[0m\u001b[0;34m\u001b[0m\u001b[0;34m\u001b[0m\u001b[0m\n\u001b[0;32m--> 419\u001b[0;31m         \u001b[0ms\u001b[0m \u001b[0;34m=\u001b[0m \u001b[0msum\u001b[0m\u001b[0;34m(\u001b[0m\u001b[0ml\u001b[0m \u001b[0;32mfor\u001b[0m \u001b[0mu\u001b[0m \u001b[0;32min\u001b[0m \u001b[0mG\u001b[0m \u001b[0;32mfor\u001b[0m \u001b[0ml\u001b[0m \u001b[0;32min\u001b[0m \u001b[0mpath_length\u001b[0m\u001b[0;34m(\u001b[0m\u001b[0mu\u001b[0m\u001b[0;34m)\u001b[0m\u001b[0;34m.\u001b[0m\u001b[0mvalues\u001b[0m\u001b[0;34m(\u001b[0m\u001b[0;34m)\u001b[0m\u001b[0;34m)\u001b[0m\u001b[0;34m\u001b[0m\u001b[0;34m\u001b[0m\u001b[0m\n\u001b[0m\u001b[1;32m    420\u001b[0m     \u001b[0;32melse\u001b[0m\u001b[0;34m:\u001b[0m\u001b[0;34m\u001b[0m\u001b[0;34m\u001b[0m\u001b[0m\n\u001b[1;32m    421\u001b[0m         \u001b[0;32mif\u001b[0m \u001b[0mmethod\u001b[0m \u001b[0;34m==\u001b[0m \u001b[0;34m'floyd-warshall'\u001b[0m\u001b[0;34m:\u001b[0m\u001b[0;34m\u001b[0m\u001b[0;34m\u001b[0m\u001b[0m\n",
      "\u001b[0;32m~/anaconda3/envs/spoti/lib/python3.8/site-packages/networkx/algorithms/shortest_paths/generic.py\u001b[0m in \u001b[0;36m<genexpr>\u001b[0;34m(.0)\u001b[0m\n\u001b[1;32m    417\u001b[0m     \u001b[0;32mif\u001b[0m \u001b[0mmethod\u001b[0m \u001b[0;32min\u001b[0m \u001b[0msingle_source_methods\u001b[0m\u001b[0;34m:\u001b[0m\u001b[0;34m\u001b[0m\u001b[0;34m\u001b[0m\u001b[0m\n\u001b[1;32m    418\u001b[0m         \u001b[0;31m# Sum the distances for each (ordered) pair of source and target node.\u001b[0m\u001b[0;34m\u001b[0m\u001b[0;34m\u001b[0m\u001b[0;34m\u001b[0m\u001b[0m\n\u001b[0;32m--> 419\u001b[0;31m         \u001b[0ms\u001b[0m \u001b[0;34m=\u001b[0m \u001b[0msum\u001b[0m\u001b[0;34m(\u001b[0m\u001b[0ml\u001b[0m \u001b[0;32mfor\u001b[0m \u001b[0mu\u001b[0m \u001b[0;32min\u001b[0m \u001b[0mG\u001b[0m \u001b[0;32mfor\u001b[0m \u001b[0ml\u001b[0m \u001b[0;32min\u001b[0m \u001b[0mpath_length\u001b[0m\u001b[0;34m(\u001b[0m\u001b[0mu\u001b[0m\u001b[0;34m)\u001b[0m\u001b[0;34m.\u001b[0m\u001b[0mvalues\u001b[0m\u001b[0;34m(\u001b[0m\u001b[0;34m)\u001b[0m\u001b[0;34m)\u001b[0m\u001b[0;34m\u001b[0m\u001b[0;34m\u001b[0m\u001b[0m\n\u001b[0m\u001b[1;32m    420\u001b[0m     \u001b[0;32melse\u001b[0m\u001b[0;34m:\u001b[0m\u001b[0;34m\u001b[0m\u001b[0;34m\u001b[0m\u001b[0m\n\u001b[1;32m    421\u001b[0m         \u001b[0;32mif\u001b[0m \u001b[0mmethod\u001b[0m \u001b[0;34m==\u001b[0m \u001b[0;34m'floyd-warshall'\u001b[0m\u001b[0;34m:\u001b[0m\u001b[0;34m\u001b[0m\u001b[0;34m\u001b[0m\u001b[0m\n",
      "\u001b[0;32m~/anaconda3/envs/spoti/lib/python3.8/site-packages/networkx/algorithms/shortest_paths/generic.py\u001b[0m in \u001b[0;36mpath_length\u001b[0;34m(v)\u001b[0m\n\u001b[1;32m    408\u001b[0m     \u001b[0;32mdef\u001b[0m \u001b[0mpath_length\u001b[0m\u001b[0;34m(\u001b[0m\u001b[0mv\u001b[0m\u001b[0;34m)\u001b[0m\u001b[0;34m:\u001b[0m\u001b[0;34m\u001b[0m\u001b[0;34m\u001b[0m\u001b[0m\n\u001b[1;32m    409\u001b[0m         \u001b[0;32mif\u001b[0m \u001b[0mmethod\u001b[0m \u001b[0;34m==\u001b[0m \u001b[0;34m'unweighted'\u001b[0m\u001b[0;34m:\u001b[0m\u001b[0;34m\u001b[0m\u001b[0;34m\u001b[0m\u001b[0m\n\u001b[0;32m--> 410\u001b[0;31m             \u001b[0;32mreturn\u001b[0m \u001b[0mnx\u001b[0m\u001b[0;34m.\u001b[0m\u001b[0msingle_source_shortest_path_length\u001b[0m\u001b[0;34m(\u001b[0m\u001b[0mG\u001b[0m\u001b[0;34m,\u001b[0m \u001b[0mv\u001b[0m\u001b[0;34m)\u001b[0m\u001b[0;34m\u001b[0m\u001b[0;34m\u001b[0m\u001b[0m\n\u001b[0m\u001b[1;32m    411\u001b[0m         \u001b[0;32melif\u001b[0m \u001b[0mmethod\u001b[0m \u001b[0;34m==\u001b[0m \u001b[0;34m'dijkstra'\u001b[0m\u001b[0;34m:\u001b[0m\u001b[0;34m\u001b[0m\u001b[0;34m\u001b[0m\u001b[0m\n\u001b[1;32m    412\u001b[0m             \u001b[0;32mreturn\u001b[0m \u001b[0mnx\u001b[0m\u001b[0;34m.\u001b[0m\u001b[0msingle_source_dijkstra_path_length\u001b[0m\u001b[0;34m(\u001b[0m\u001b[0mG\u001b[0m\u001b[0;34m,\u001b[0m \u001b[0mv\u001b[0m\u001b[0;34m,\u001b[0m \u001b[0mweight\u001b[0m\u001b[0;34m=\u001b[0m\u001b[0mweight\u001b[0m\u001b[0;34m)\u001b[0m\u001b[0;34m\u001b[0m\u001b[0;34m\u001b[0m\u001b[0m\n",
      "\u001b[0;32m~/anaconda3/envs/spoti/lib/python3.8/site-packages/networkx/algorithms/shortest_paths/unweighted.py\u001b[0m in \u001b[0;36msingle_source_shortest_path_length\u001b[0;34m(G, source, cutoff)\u001b[0m\n\u001b[1;32m     64\u001b[0m         \u001b[0mcutoff\u001b[0m \u001b[0;34m=\u001b[0m \u001b[0mfloat\u001b[0m\u001b[0;34m(\u001b[0m\u001b[0;34m'inf'\u001b[0m\u001b[0;34m)\u001b[0m\u001b[0;34m\u001b[0m\u001b[0;34m\u001b[0m\u001b[0m\n\u001b[1;32m     65\u001b[0m     \u001b[0mnextlevel\u001b[0m \u001b[0;34m=\u001b[0m \u001b[0;34m{\u001b[0m\u001b[0msource\u001b[0m\u001b[0;34m:\u001b[0m \u001b[0;36m1\u001b[0m\u001b[0;34m}\u001b[0m\u001b[0;34m\u001b[0m\u001b[0;34m\u001b[0m\u001b[0m\n\u001b[0;32m---> 66\u001b[0;31m     \u001b[0;32mreturn\u001b[0m \u001b[0mdict\u001b[0m\u001b[0;34m(\u001b[0m\u001b[0m_single_shortest_path_length\u001b[0m\u001b[0;34m(\u001b[0m\u001b[0mG\u001b[0m\u001b[0;34m.\u001b[0m\u001b[0madj\u001b[0m\u001b[0;34m,\u001b[0m \u001b[0mnextlevel\u001b[0m\u001b[0;34m,\u001b[0m \u001b[0mcutoff\u001b[0m\u001b[0;34m)\u001b[0m\u001b[0;34m)\u001b[0m\u001b[0;34m\u001b[0m\u001b[0;34m\u001b[0m\u001b[0m\n\u001b[0m\u001b[1;32m     67\u001b[0m \u001b[0;34m\u001b[0m\u001b[0m\n\u001b[1;32m     68\u001b[0m \u001b[0;34m\u001b[0m\u001b[0m\n",
      "\u001b[0;32m~/anaconda3/envs/spoti/lib/python3.8/site-packages/networkx/algorithms/shortest_paths/unweighted.py\u001b[0m in \u001b[0;36m_single_shortest_path_length\u001b[0;34m(adj, firstlevel, cutoff)\u001b[0m\n\u001b[1;32m     90\u001b[0m             \u001b[0;32mif\u001b[0m \u001b[0mv\u001b[0m \u001b[0;32mnot\u001b[0m \u001b[0;32min\u001b[0m \u001b[0mseen\u001b[0m\u001b[0;34m:\u001b[0m\u001b[0;34m\u001b[0m\u001b[0;34m\u001b[0m\u001b[0m\n\u001b[1;32m     91\u001b[0m                 \u001b[0mseen\u001b[0m\u001b[0;34m[\u001b[0m\u001b[0mv\u001b[0m\u001b[0;34m]\u001b[0m \u001b[0;34m=\u001b[0m \u001b[0mlevel\u001b[0m  \u001b[0;31m# set the level of vertex v\u001b[0m\u001b[0;34m\u001b[0m\u001b[0;34m\u001b[0m\u001b[0m\n\u001b[0;32m---> 92\u001b[0;31m                 \u001b[0mnextlevel\u001b[0m\u001b[0;34m.\u001b[0m\u001b[0mupdate\u001b[0m\u001b[0;34m(\u001b[0m\u001b[0madj\u001b[0m\u001b[0;34m[\u001b[0m\u001b[0mv\u001b[0m\u001b[0;34m]\u001b[0m\u001b[0;34m)\u001b[0m  \u001b[0;31m# add neighbors of v\u001b[0m\u001b[0;34m\u001b[0m\u001b[0;34m\u001b[0m\u001b[0m\n\u001b[0m\u001b[1;32m     93\u001b[0m                 \u001b[0;32myield\u001b[0m \u001b[0;34m(\u001b[0m\u001b[0mv\u001b[0m\u001b[0;34m,\u001b[0m \u001b[0mlevel\u001b[0m\u001b[0;34m)\u001b[0m\u001b[0;34m\u001b[0m\u001b[0;34m\u001b[0m\u001b[0m\n\u001b[1;32m     94\u001b[0m         \u001b[0mlevel\u001b[0m \u001b[0;34m+=\u001b[0m \u001b[0;36m1\u001b[0m\u001b[0;34m\u001b[0m\u001b[0;34m\u001b[0m\u001b[0m\n",
      "\u001b[0;32m~/anaconda3/envs/spoti/lib/python3.8/_collections_abc.py\u001b[0m in \u001b[0;36m__iter__\u001b[0;34m(self)\u001b[0m\n\u001b[1;32m    718\u001b[0m \u001b[0;34m\u001b[0m\u001b[0m\n\u001b[1;32m    719\u001b[0m     \u001b[0;32mdef\u001b[0m \u001b[0m__iter__\u001b[0m\u001b[0;34m(\u001b[0m\u001b[0mself\u001b[0m\u001b[0;34m)\u001b[0m\u001b[0;34m:\u001b[0m\u001b[0;34m\u001b[0m\u001b[0;34m\u001b[0m\u001b[0m\n\u001b[0;32m--> 720\u001b[0;31m         \u001b[0;32myield\u001b[0m \u001b[0;32mfrom\u001b[0m \u001b[0mself\u001b[0m\u001b[0;34m.\u001b[0m\u001b[0m_mapping\u001b[0m\u001b[0;34m\u001b[0m\u001b[0;34m\u001b[0m\u001b[0m\n\u001b[0m\u001b[1;32m    721\u001b[0m \u001b[0;34m\u001b[0m\u001b[0m\n\u001b[1;32m    722\u001b[0m \u001b[0mKeysView\u001b[0m\u001b[0;34m.\u001b[0m\u001b[0mregister\u001b[0m\u001b[0;34m(\u001b[0m\u001b[0mdict_keys\u001b[0m\u001b[0;34m)\u001b[0m\u001b[0;34m\u001b[0m\u001b[0;34m\u001b[0m\u001b[0m\n",
      "\u001b[0;31mKeyboardInterrupt\u001b[0m: "
     ]
    }
   ],
   "source": [
    "nx.average_shortest_path_length(G)"
   ]
  },
  {
   "cell_type": "code",
   "execution_count": null,
   "metadata": {},
   "outputs": [],
   "source": [
    "nx.diameter(G)"
   ]
  },
  {
   "cell_type": "code",
   "execution_count": null,
   "metadata": {},
   "outputs": [],
   "source": [
    "deg_centrality_dict = nx.degree_centrality(G)\n",
    "display_centrality_result(centrality_type=\"Degree\", \n",
    "                          centrality_values=deg_centrality_dict)\n",
    "\n",
    "dict(sorted(deg_centrality_dict.items(), key=lambda item: item[1], reverse=True))"
   ]
  },
  {
   "cell_type": "code",
   "execution_count": null,
   "metadata": {},
   "outputs": [],
   "source": [
    "betweenness_centrality_dict = nx.betweenness_centrality(G)\n",
    "dict(sorted(betweenness_centrality_dict.items(), key=lambda item: item[1], reverse=True))b"
   ]
  },
  {
   "cell_type": "code",
   "execution_count": null,
   "metadata": {},
   "outputs": [],
   "source": [
    "eigenv_centrality_dict = nx.eigenvector_centrality(G)\n",
    "dict(sorted(eigenv_centrality_dict.items(), key=lambda item: item[1], reverse=True))"
   ]
  },
  {
   "cell_type": "code",
   "execution_count": 4,
   "metadata": {},
   "outputs": [],
   "source": [
    "net.create_community()"
   ]
  },
  {
   "cell_type": "code",
   "execution_count": 5,
   "metadata": {},
   "outputs": [],
   "source": [
    "G = net.load_community()"
   ]
  },
  {
   "cell_type": "code",
   "execution_count": 31,
   "metadata": {},
   "outputs": [],
   "source": [
    "distance = net.shortest_path_len(G, 'Avicii', 'Avicii')"
   ]
  },
  {
   "cell_type": "code",
   "execution_count": 32,
   "metadata": {},
   "outputs": [
    {
     "data": {
      "text/plain": [
       "0"
      ]
     },
     "execution_count": 32,
     "metadata": {},
     "output_type": "execute_result"
    }
   ],
   "source": [
    "distance"
   ]
  },
  {
   "cell_type": "code",
   "execution_count": 35,
   "metadata": {},
   "outputs": [
    {
     "data": {
      "text/plain": [
       "65.0"
      ]
     },
     "execution_count": 35,
     "metadata": {},
     "output_type": "execute_result"
    }
   ],
   "source": [
    "dataset.get_rating_popu_user('kekio89')"
   ]
  },
  {
   "cell_type": "code",
   "execution_count": null,
   "metadata": {},
   "outputs": [],
   "source": []
  },
  {
   "cell_type": "code",
   "execution_count": 30,
   "metadata": {},
   "outputs": [
    {
     "data": {
      "text/plain": [
       "['Avicii']"
      ]
     },
     "execution_count": 30,
     "metadata": {},
     "output_type": "execute_result"
    }
   ],
   "source": [
    "net.shortest_path(G, 'Avicii', 'Avicii')"
   ]
  },
  {
   "cell_type": "code",
   "execution_count": null,
   "metadata": {},
   "outputs": [],
   "source": [
    "dataset.scrape_artists()"
   ]
  },
  {
   "cell_type": "code",
   "execution_count": 41,
   "metadata": {},
   "outputs": [
    {
     "data": {
      "text/plain": [
       "int"
      ]
     },
     "execution_count": 41,
     "metadata": {},
     "output_type": "execute_result"
    }
   ],
   "source": [
    "type(distance)"
   ]
  },
  {
   "cell_type": "code",
   "execution_count": 29,
   "metadata": {
    "scrolled": true
   },
   "outputs": [
    {
     "data": {
      "text/plain": [
       "(4.7, 1, ['David Guetta', 'The Chainsmokers'])"
      ]
     },
     "execution_count": 29,
     "metadata": {},
     "output_type": "execute_result"
    }
   ],
   "source": [
    "dataset.get_info_distances_between_users('kekio89', 'paulacastro3')"
   ]
  },
  {
   "cell_type": "code",
   "execution_count": 14,
   "metadata": {},
   "outputs": [],
   "source": [
    "a = [('BTS',), ('Taylor Swift',), ('5 Seconds of Summer',), ('TWICE',), ('Ed Sheeran',), ('BLACKPINK',), ('Nashville Cast',), ('The Chainsmokers',), ('One Direction',), ('Michael Jackson',), ('McFly',), ('Ariana Grande',), ('Morat',), ('Juan Magán',), ('Rihanna',), ('Little Mix',), ('Christina Aguilera',), ('Daddy Yankee',), ('Beyoncé',), ('The Summer Set',)]"
   ]
  },
  {
   "cell_type": "code",
   "execution_count": 16,
   "metadata": {},
   "outputs": [
    {
     "data": {
      "text/plain": [
       "'BTS'"
      ]
     },
     "execution_count": 16,
     "metadata": {},
     "output_type": "execute_result"
    }
   ],
   "source": [
    "dataset.get_info_distances_artist_ref('paulacastro3')"
   ]
  },
  {
   "cell_type": "code",
   "execution_count": 10,
   "metadata": {},
   "outputs": [],
   "source": [
    "net.create_community()"
   ]
  },
  {
   "cell_type": "code",
   "execution_count": 19,
   "metadata": {},
   "outputs": [
    {
     "data": {
      "text/plain": [
       "(5.3, 2, ['Juan Magán', 'Fondo Flamenco', 'Camela'])"
      ]
     },
     "execution_count": 19,
     "metadata": {},
     "output_type": "execute_result"
    }
   ],
   "source": [
    "dataset.get_info_distances_artist_ref('paulacastro3')"
   ]
  },
  {
   "cell_type": "code",
   "execution_count": 2,
   "metadata": {},
   "outputs": [],
   "source": [
    "df = net.create_community()"
   ]
  },
  {
   "cell_type": "code",
   "execution_count": 3,
   "metadata": {},
   "outputs": [
    {
     "data": {
      "text/html": [
       "<div>\n",
       "<style scoped>\n",
       "    .dataframe tbody tr th:only-of-type {\n",
       "        vertical-align: middle;\n",
       "    }\n",
       "\n",
       "    .dataframe tbody tr th {\n",
       "        vertical-align: top;\n",
       "    }\n",
       "\n",
       "    .dataframe thead th {\n",
       "        text-align: right;\n",
       "    }\n",
       "</style>\n",
       "<table border=\"1\" class=\"dataframe\">\n",
       "  <thead>\n",
       "    <tr style=\"text-align: right;\">\n",
       "      <th></th>\n",
       "      <th>artist1</th>\n",
       "      <th>artist2</th>\n",
       "    </tr>\n",
       "  </thead>\n",
       "  <tbody>\n",
       "    <tr>\n",
       "      <th>97591</th>\n",
       "      <td>El Arrebato</td>\n",
       "      <td>Bustamante</td>\n",
       "    </tr>\n",
       "    <tr>\n",
       "      <th>101962</th>\n",
       "      <td>Decai</td>\n",
       "      <td>Bustamante</td>\n",
       "    </tr>\n",
       "    <tr>\n",
       "      <th>115802</th>\n",
       "      <td>Los Caños</td>\n",
       "      <td>Bustamante</td>\n",
       "    </tr>\n",
       "    <tr>\n",
       "      <th>177810</th>\n",
       "      <td>Andy &amp; Lucas</td>\n",
       "      <td>Bustamante</td>\n",
       "    </tr>\n",
       "    <tr>\n",
       "      <th>234565</th>\n",
       "      <td>Sergio Contreras</td>\n",
       "      <td>Bustamante</td>\n",
       "    </tr>\n",
       "    <tr>\n",
       "      <th>...</th>\n",
       "      <td>...</td>\n",
       "      <td>...</td>\n",
       "    </tr>\n",
       "    <tr>\n",
       "      <th>889772</th>\n",
       "      <td>Upa Dance</td>\n",
       "      <td>Bustamante</td>\n",
       "    </tr>\n",
       "    <tr>\n",
       "      <th>889832</th>\n",
       "      <td>Azucar Moreno</td>\n",
       "      <td>Bustamante</td>\n",
       "    </tr>\n",
       "    <tr>\n",
       "      <th>889834</th>\n",
       "      <td>Shaila Dúrcal</td>\n",
       "      <td>Bustamante</td>\n",
       "    </tr>\n",
       "    <tr>\n",
       "      <th>889870</th>\n",
       "      <td>Lorena</td>\n",
       "      <td>Bustamante</td>\n",
       "    </tr>\n",
       "    <tr>\n",
       "      <th>890481</th>\n",
       "      <td>Laura Esquivel</td>\n",
       "      <td>Bustamante</td>\n",
       "    </tr>\n",
       "  </tbody>\n",
       "</table>\n",
       "<p>62 rows × 2 columns</p>\n",
       "</div>"
      ],
      "text/plain": [
       "                 artist1     artist2\n",
       "97591        El Arrebato  Bustamante\n",
       "101962             Decai  Bustamante\n",
       "115802         Los Caños  Bustamante\n",
       "177810      Andy & Lucas  Bustamante\n",
       "234565  Sergio Contreras  Bustamante\n",
       "...                  ...         ...\n",
       "889772         Upa Dance  Bustamante\n",
       "889832     Azucar Moreno  Bustamante\n",
       "889834     Shaila Dúrcal  Bustamante\n",
       "889870            Lorena  Bustamante\n",
       "890481    Laura Esquivel  Bustamante\n",
       "\n",
       "[62 rows x 2 columns]"
      ]
     },
     "execution_count": 3,
     "metadata": {},
     "output_type": "execute_result"
    }
   ],
   "source": [
    "df[df['artist2']== 'Bustamante']"
   ]
  },
  {
   "cell_type": "code",
   "execution_count": 10,
   "metadata": {
    "scrolled": true
   },
   "outputs": [
    {
     "name": "stdout",
     "output_type": "stream",
     "text": [
      "[('Avicii', 'The Nights', '0ct6r3EGTcMLPtrXHDvVjc'), ('Avicii', 'Waiting For Love', '2P4OICZRVAQcYAV2JReRfj'), ('Avicii', 'SOS (feat. Aloe Blacc)', '2x0RZdkZcD8QRI53XT4GI5'), ('Avicii', 'Levels - Radio Edit', '5UqCQaDshqbIk3pkhy4Pjg'), ('Avicii', 'Wake Me Up', '0nrRP2bk19rLc0orkWPQk2'), ('Swedish House Mafia', \"Don't You Worry Child - Radio Edit\", '2V65y3PX4DkRhy1djlxd9p'), ('Avicii', 'Wake Me Up', '4h8VwCb1MTGoLKueQ1WgbD'), ('Steve Aoki', 'Pursuit Of Happiness - Extended Steve Aoki Remix (Explicit)', '5PX4uS1LqlWEPL69phPVQQ'), ('Avicii', 'Without You (feat. Sandro Cavazza)', '6Pgkp4qUoTmJIPn7ReaGxL'), ('Avicii', 'Levels - Radio Edit', '0JhKJg5ejeQ8jq89UQtnw8'), ('Avicii', 'Heaven', '0vrmHPfoBadXVr2n0m1aqZ'), ('Steve Aoki', 'Azukita (Steve Aoki, Daddy Yankee, Play-N-Skillz & Elvis Crespo) (feat. Elvis Crespo)', '5e45GhSF18JYoLpaq2F48h'), ('Swedish House Mafia', 'Save The World', '65hRZOQkVjmBdusz1N7aOv'), ('Avicii', 'Hey Brother', '4lhqb6JvbHId48OUJGwymk'), ('Avicii', 'I Could Be The One (Avicii Vs. Nicky Romero) - Radio Edit', '591nHHHzZl1NLt9PMKpinM')]\n"
     ]
    },
    {
     "data": {
      "text/plain": [
       "[['Avicii', 'The Nights', '0ct6r3EGTcMLPtrXHDvVjc'],\n",
       " ['Avicii', 'Waiting For Love', '2P4OICZRVAQcYAV2JReRfj'],\n",
       " ['Avicii', 'SOS (feat. Aloe Blacc)', '2x0RZdkZcD8QRI53XT4GI5'],\n",
       " ['Avicii', 'Levels - Radio Edit', '5UqCQaDshqbIk3pkhy4Pjg'],\n",
       " ['Avicii', 'Wake Me Up', '0nrRP2bk19rLc0orkWPQk2'],\n",
       " ['Swedish House Mafia',\n",
       "  \"Don't You Worry Child - Radio Edit\",\n",
       "  '2V65y3PX4DkRhy1djlxd9p'],\n",
       " ['Steve Aoki',\n",
       "  'Pursuit Of Happiness - Extended Steve Aoki Remix (Explicit)',\n",
       "  '5PX4uS1LqlWEPL69phPVQQ'],\n",
       " ['Avicii', 'Without You (feat. Sandro Cavazza)', '6Pgkp4qUoTmJIPn7ReaGxL'],\n",
       " ['Avicii', 'Heaven', '0vrmHPfoBadXVr2n0m1aqZ'],\n",
       " ['Steve Aoki',\n",
       "  'Azukita (Steve Aoki, Daddy Yankee, Play-N-Skillz & Elvis Crespo) (feat. Elvis Crespo)',\n",
       "  '5e45GhSF18JYoLpaq2F48h'],\n",
       " ['Swedish House Mafia', 'Save The World', '65hRZOQkVjmBdusz1N7aOv'],\n",
       " ['Avicii', 'Hey Brother', '4lhqb6JvbHId48OUJGwymk'],\n",
       " ['Avicii',\n",
       "  'I Could Be The One (Avicii Vs. Nicky Romero) - Radio Edit',\n",
       "  '591nHHHzZl1NLt9PMKpinM']]"
      ]
     },
     "execution_count": 10,
     "metadata": {},
     "output_type": "execute_result"
    }
   ],
   "source": [
    "dataset.find_matches_by_artist_for_playlist('guzska', 'kekio89')"
   ]
  },
  {
   "cell_type": "code",
   "execution_count": 7,
   "metadata": {},
   "outputs": [],
   "source": [
    "G= net.load_community()"
   ]
  },
  {
   "cell_type": "code",
   "execution_count": 8,
   "metadata": {},
   "outputs": [
    {
     "data": {
      "text/plain": [
       "True"
      ]
     },
     "execution_count": 8,
     "metadata": {},
     "output_type": "execute_result"
    }
   ],
   "source": [
    "net.check_if_in_G(G,'Camela')"
   ]
  },
  {
   "cell_type": "code",
   "execution_count": null,
   "metadata": {},
   "outputs": [],
   "source": []
  }
 ],
 "metadata": {
  "kernelspec": {
   "display_name": "Python 3",
   "language": "python",
   "name": "python3"
  },
  "language_info": {
   "codemirror_mode": {
    "name": "ipython",
    "version": 3
   },
   "file_extension": ".py",
   "mimetype": "text/x-python",
   "name": "python",
   "nbconvert_exporter": "python",
   "pygments_lexer": "ipython3",
   "version": "3.8.3"
  }
 },
 "nbformat": 4,
 "nbformat_minor": 4
}
